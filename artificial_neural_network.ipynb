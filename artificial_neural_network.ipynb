{
  "cells": [
    {
      "cell_type": "markdown",
      "metadata": {
        "id": "lP6JLo1tGNBg"
      },
      "source": [
        "# Artificial Neural Network"
      ]
    },
    {
      "cell_type": "markdown",
      "metadata": {
        "id": "gWZyYmS_UE_L"
      },
      "source": [
        "### Importing the libraries"
      ]
    },
    {
      "cell_type": "code",
      "execution_count": 1,
      "metadata": {
        "id": "MxkJoQBkUIHC",
        "vscode": {
          "languageId": "python"
        }
      },
      "outputs": [],
      "source": [
        "import numpy as np\n",
        "import pandas as pd\n",
        "import tensorflow as tf"
      ]
    },
    {
      "cell_type": "code",
      "execution_count": 2,
      "metadata": {
        "colab": {
          "base_uri": "https://localhost:8080/",
          "height": 36
        },
        "id": "ZaTwK7ojXr2F",
        "outputId": "e837e170-43be-4633-a92f-969bf415e7ca",
        "vscode": {
          "languageId": "python"
        }
      },
      "outputs": [
        {
          "data": {
            "application/vnd.google.colaboratory.intrinsic+json": {
              "type": "string"
            },
            "text/plain": [
              "'2.9.2'"
            ]
          },
          "execution_count": 2,
          "metadata": {},
          "output_type": "execute_result"
        }
      ],
      "source": [
        "tf.__version__"
      ]
    },
    {
      "cell_type": "markdown",
      "metadata": {
        "id": "1E0Q3aoKUCRX"
      },
      "source": [
        "## Part 1 - Data Preprocessing"
      ]
    },
    {
      "cell_type": "markdown",
      "metadata": {
        "id": "cKWAkFVGUU0Z"
      },
      "source": [
        "### Importing the dataset"
      ]
    },
    {
      "cell_type": "code",
      "execution_count": 3,
      "metadata": {
        "id": "MXUkhkMfU4wq",
        "vscode": {
          "languageId": "python"
        }
      },
      "outputs": [],
      "source": [
        "dataset = pd.read_csv('processed.csv')\n",
        "X = dataset.iloc[:, :-1].values\n",
        "y = dataset.iloc[:, -1].values"
      ]
    },
    {
      "cell_type": "code",
      "execution_count": 4,
      "metadata": {
        "colab": {
          "base_uri": "https://localhost:8080/"
        },
        "id": "VYP9cQTWbzuI",
        "outputId": "46dff7c4-fb2f-4f0c-ea9b-18f1646478d1",
        "vscode": {
          "languageId": "python"
        }
      },
      "outputs": [
        {
          "name": "stdout",
          "output_type": "stream",
          "text": [
            "[[ 12.         15.          1.        ...  41.2       -37.8134078\n",
            "  144.9794923]\n",
            " [ 12.         15.          1.        ...  48.3       -37.813073\n",
            "  144.9804061]\n",
            " [ 12.         15.          1.        ...  44.8       -37.8149218\n",
            "  144.9822582]\n",
            " ...\n",
            " [  6.          4.          4.        ...  52.2       -37.8195002\n",
            "  144.9418888]\n",
            " [  6.          4.          6.        ...  52.2       -37.8195002\n",
            "  144.9418888]\n",
            " [  6.          4.          6.        ...  52.4       -37.8195002\n",
            "  144.9418888]]\n"
          ]
        }
      ],
      "source": [
        "print(X)"
      ]
    },
    {
      "cell_type": "code",
      "execution_count": 5,
      "metadata": {
        "colab": {
          "base_uri": "https://localhost:8080/"
        },
        "id": "38vKGE6Nb2RR",
        "outputId": "30f60c43-659b-4ccf-c237-7175abd56aa7",
        "vscode": {
          "languageId": "python"
        }
      },
      "outputs": [
        {
          "name": "stdout",
          "output_type": "stream",
          "text": [
            "['Need irrigation' 'Need irrigation' 'Need irrigation' ...\n",
            " 'Does not need irrigation' 'Does not need irrigation'\n",
            " 'Does not need irrigation']\n"
          ]
        }
      ],
      "source": [
        "print(y)"
      ]
    },
    {
      "cell_type": "markdown",
      "metadata": {
        "id": "N6bQ0UgSU-NJ"
      },
      "source": [
        "### Encoding categorical data"
      ]
    },
    {
      "cell_type": "markdown",
      "metadata": {
        "id": "le5MJreAbW52"
      },
      "source": [
        "Label Encoding the \"result\" column"
      ]
    },
    {
      "cell_type": "code",
      "execution_count": 6,
      "metadata": {
        "id": "PxVKWXxLbczC",
        "vscode": {
          "languageId": "python"
        }
      },
      "outputs": [],
      "source": [
        "from sklearn.preprocessing import LabelEncoder\n",
        "le = LabelEncoder()\n",
        "y = le.fit_transform(y)"
      ]
    },
    {
      "cell_type": "code",
      "execution_count": 7,
      "metadata": {
        "colab": {
          "base_uri": "https://localhost:8080/"
        },
        "id": "-M1KboxFb6OO",
        "outputId": "c2e6c9de-1488-4bab-fa44-db7c7bbaede2",
        "vscode": {
          "languageId": "python"
        }
      },
      "outputs": [
        {
          "name": "stdout",
          "output_type": "stream",
          "text": [
            "[[ 12.         15.          1.        ...  41.2       -37.8134078\n",
            "  144.9794923]\n",
            " [ 12.         15.          1.        ...  48.3       -37.813073\n",
            "  144.9804061]\n",
            " [ 12.         15.          1.        ...  44.8       -37.8149218\n",
            "  144.9822582]\n",
            " ...\n",
            " [  6.          4.          4.        ...  52.2       -37.8195002\n",
            "  144.9418888]\n",
            " [  6.          4.          6.        ...  52.2       -37.8195002\n",
            "  144.9418888]\n",
            " [  6.          4.          6.        ...  52.4       -37.8195002\n",
            "  144.9418888]]\n"
          ]
        }
      ],
      "source": [
        "print(y)"
      ]
    },
    {
      "attachments": {},
      "cell_type": "markdown",
      "metadata": {
        "id": "CUxGZezpbMcb"
      },
      "source": [
        "One Hot Encoding the \"Longitude\" and \"Latitude\" column"
      ]
    },
    {
      "cell_type": "code",
      "execution_count": 8,
      "metadata": {
        "id": "AMXC8-KMVirw",
        "vscode": {
          "languageId": "python"
        }
      },
      "outputs": [],
      "source": [
        "from sklearn.compose import ColumnTransformer\n",
        "from sklearn.preprocessing import OneHotEncoder\n",
        "ct = ColumnTransformer(transformers=[('encoder', OneHotEncoder(), [7, 8])], remainder='passthrough')\n",
        "X = np.array(ct.fit_transform(X))"
      ]
    },
    {
      "cell_type": "code",
      "execution_count": null,
      "metadata": {
        "colab": {
          "base_uri": "https://localhost:8080/"
        },
        "id": "ZcxwEon-b8nV",
        "outputId": "120a7256-c11e-4b67-afe8-db7f351d0b29",
        "vscode": {
          "languageId": "python"
        }
      },
      "outputs": [
        {
          "name": "stdout",
          "output_type": "stream",
          "text": [
            "[[ 0.   0.   0.  ... 21.6 96.4 41.2]\n",
            " [ 0.   0.   0.  ... 23.2 93.5 48.3]\n",
            " [ 0.   0.   0.  ... 21.6 97.2 44.8]\n",
            " ...\n",
            " [ 0.   0.   0.  ...  6.1  7.2 52.2]\n",
            " [ 0.   0.   0.  ...  5.8  7.3 52.2]\n",
            " [ 0.   0.   0.  ...  5.8  7.3 52.4]]\n"
          ]
        }
      ],
      "source": [
        "print(X)"
      ]
    },
    {
      "cell_type": "markdown",
      "metadata": {
        "id": "vHol938cW8zd"
      },
      "source": [
        "### Splitting the dataset into the Training set and Test set"
      ]
    },
    {
      "cell_type": "code",
      "execution_count": 10,
      "metadata": {
        "id": "Z-TDt0Y_XEfc",
        "vscode": {
          "languageId": "python"
        }
      },
      "outputs": [],
      "source": [
        "from sklearn.model_selection import train_test_split\n",
        "X_train, X_test, y_train, y_test = train_test_split(X, y, test_size = 0.2, random_state = 0)"
      ]
    },
    {
      "cell_type": "markdown",
      "metadata": {
        "id": "RE_FcHyfV3TQ"
      },
      "source": [
        "### Feature Scaling"
      ]
    },
    {
      "cell_type": "code",
      "execution_count": 11,
      "metadata": {
        "id": "ViCrE00rV8Sk",
        "vscode": {
          "languageId": "python"
        }
      },
      "outputs": [],
      "source": [
        "from sklearn.preprocessing import StandardScaler\n",
        "sc = StandardScaler()\n",
        "X_train = sc.fit_transform(X_train)\n",
        "X_test = sc.transform(X_test)"
      ]
    },
    {
      "cell_type": "markdown",
      "metadata": {
        "id": "-zfEzkRVXIwF"
      },
      "source": [
        "## Part 2 - Building the ANN"
      ]
    },
    {
      "attachments": {},
      "cell_type": "markdown",
      "metadata": {
        "id": "KvdeScabXtlB"
      },
      "source": [
        "### Initializing the ANN"
      ]
    },
    {
      "cell_type": "code",
      "execution_count": 12,
      "metadata": {
        "id": "3dtrScHxXQox",
        "vscode": {
          "languageId": "python"
        }
      },
      "outputs": [],
      "source": [
        "ann = tf.keras.models.Sequential()"
      ]
    },
    {
      "cell_type": "markdown",
      "metadata": {
        "id": "rP6urV6SX7kS"
      },
      "source": [
        "### Adding the input layer and the first hidden layer"
      ]
    },
    {
      "cell_type": "code",
      "execution_count": 13,
      "metadata": {
        "id": "bppGycBXYCQr",
        "vscode": {
          "languageId": "python"
        }
      },
      "outputs": [],
      "source": [
        "ann.add(tf.keras.layers.Dense(units=6, activation='relu'))"
      ]
    },
    {
      "cell_type": "markdown",
      "metadata": {
        "id": "BELWAc_8YJze"
      },
      "source": [
        "### Adding the second hidden layer"
      ]
    },
    {
      "cell_type": "code",
      "execution_count": 14,
      "metadata": {
        "id": "JneR0u0sYRTd",
        "vscode": {
          "languageId": "python"
        }
      },
      "outputs": [],
      "source": [
        "ann.add(tf.keras.layers.Dense(units=6, activation='relu'))"
      ]
    },
    {
      "cell_type": "markdown",
      "metadata": {
        "id": "OyNEe6RXYcU4"
      },
      "source": [
        "### Adding the output layer"
      ]
    },
    {
      "cell_type": "code",
      "execution_count": 15,
      "metadata": {
        "id": "Cn3x41RBYfvY",
        "vscode": {
          "languageId": "python"
        }
      },
      "outputs": [],
      "source": [
        "ann.add(tf.keras.layers.Dense(units=1, activation='sigmoid'))"
      ]
    },
    {
      "cell_type": "markdown",
      "metadata": {
        "id": "JT4u2S1_Y4WG"
      },
      "source": [
        "## Part 3 - Training the ANN"
      ]
    },
    {
      "cell_type": "markdown",
      "metadata": {
        "id": "8GWlJChhY_ZI"
      },
      "source": [
        "### Compiling the ANN"
      ]
    },
    {
      "cell_type": "code",
      "execution_count": 16,
      "metadata": {
        "id": "fG3RrwDXZEaS",
        "vscode": {
          "languageId": "python"
        }
      },
      "outputs": [],
      "source": [
        "ann.compile(optimizer = 'adam', loss = 'binary_crossentropy', metrics = ['accuracy'])"
      ]
    },
    {
      "cell_type": "markdown",
      "metadata": {
        "id": "0QR_G5u7ZLSM"
      },
      "source": [
        "### Training the ANN on the Training set"
      ]
    },
    {
      "cell_type": "code",
      "execution_count": 17,
      "metadata": {
        "colab": {
          "base_uri": "https://localhost:8080/"
        },
        "id": "nHZ-LKv_ZRb3",
        "outputId": "e3fbe952-db01-4d4b-f846-7b2f3410ea36",
        "vscode": {
          "languageId": "python"
        }
      },
      "outputs": [
        {
          "name": "stdout",
          "output_type": "stream",
          "text": [
            "Epoch 1/100\n",
            "1415/1415 [==============================] - 4s 2ms/step - loss: 0.3319 - accuracy: 0.8745\n",
            "Epoch 2/100\n",
            "1415/1415 [==============================] - 3s 2ms/step - loss: 0.1809 - accuracy: 0.9608\n",
            "Epoch 3/100\n",
            "1415/1415 [==============================] - 3s 2ms/step - loss: 0.1517 - accuracy: 0.9665\n",
            "Epoch 4/100\n",
            "1415/1415 [==============================] - 3s 2ms/step - loss: 0.1333 - accuracy: 0.9690\n",
            "Epoch 5/100\n",
            "1415/1415 [==============================] - 3s 2ms/step - loss: 0.1190 - accuracy: 0.9701\n",
            "Epoch 6/100\n",
            "1415/1415 [==============================] - 3s 2ms/step - loss: 0.1083 - accuracy: 0.9710\n",
            "Epoch 7/100\n",
            "1415/1415 [==============================] - 3s 2ms/step - loss: 0.1004 - accuracy: 0.9709\n",
            "Epoch 8/100\n",
            "1415/1415 [==============================] - 3s 2ms/step - loss: 0.0957 - accuracy: 0.9708\n",
            "Epoch 9/100\n",
            "1415/1415 [==============================] - 3s 2ms/step - loss: 0.0921 - accuracy: 0.9713\n",
            "Epoch 10/100\n",
            "1415/1415 [==============================] - 3s 2ms/step - loss: 0.0895 - accuracy: 0.9712\n",
            "Epoch 11/100\n",
            "1415/1415 [==============================] - 3s 2ms/step - loss: 0.0873 - accuracy: 0.9724\n",
            "Epoch 12/100\n",
            "1415/1415 [==============================] - 3s 2ms/step - loss: 0.0865 - accuracy: 0.9720\n",
            "Epoch 13/100\n",
            "1415/1415 [==============================] - 3s 2ms/step - loss: 0.0853 - accuracy: 0.9724\n",
            "Epoch 14/100\n",
            "1415/1415 [==============================] - 3s 2ms/step - loss: 0.0847 - accuracy: 0.9724\n",
            "Epoch 15/100\n",
            "1415/1415 [==============================] - 3s 2ms/step - loss: 0.0840 - accuracy: 0.9724\n",
            "Epoch 16/100\n",
            "1415/1415 [==============================] - 3s 2ms/step - loss: 0.0840 - accuracy: 0.9726\n",
            "Epoch 17/100\n",
            "1415/1415 [==============================] - 4s 3ms/step - loss: 0.0833 - accuracy: 0.9727\n",
            "Epoch 18/100\n",
            "1415/1415 [==============================] - 3s 2ms/step - loss: 0.0835 - accuracy: 0.9723\n",
            "Epoch 19/100\n",
            "1415/1415 [==============================] - 3s 2ms/step - loss: 0.0830 - accuracy: 0.9724\n",
            "Epoch 20/100\n",
            "1415/1415 [==============================] - 3s 2ms/step - loss: 0.0827 - accuracy: 0.9727\n",
            "Epoch 21/100\n",
            "1415/1415 [==============================] - 3s 2ms/step - loss: 0.0824 - accuracy: 0.9728\n",
            "Epoch 22/100\n",
            "1415/1415 [==============================] - 3s 2ms/step - loss: 0.0824 - accuracy: 0.9726\n",
            "Epoch 23/100\n",
            "1415/1415 [==============================] - 3s 2ms/step - loss: 0.0823 - accuracy: 0.9727\n",
            "Epoch 24/100\n",
            "1415/1415 [==============================] - 3s 2ms/step - loss: 0.0816 - accuracy: 0.9729\n",
            "Epoch 25/100\n",
            "1415/1415 [==============================] - 3s 2ms/step - loss: 0.0823 - accuracy: 0.9724\n",
            "Epoch 26/100\n",
            "1415/1415 [==============================] - 3s 2ms/step - loss: 0.0820 - accuracy: 0.9730\n",
            "Epoch 27/100\n",
            "1415/1415 [==============================] - 3s 2ms/step - loss: 0.0819 - accuracy: 0.9729\n",
            "Epoch 28/100\n",
            "1415/1415 [==============================] - 3s 2ms/step - loss: 0.0818 - accuracy: 0.9729\n",
            "Epoch 29/100\n",
            "1415/1415 [==============================] - 3s 2ms/step - loss: 0.0818 - accuracy: 0.9731\n",
            "Epoch 30/100\n",
            "1415/1415 [==============================] - 4s 3ms/step - loss: 0.0818 - accuracy: 0.9730\n",
            "Epoch 31/100\n",
            "1415/1415 [==============================] - 3s 2ms/step - loss: 0.0812 - accuracy: 0.9732\n",
            "Epoch 32/100\n",
            "1415/1415 [==============================] - 3s 2ms/step - loss: 0.0813 - accuracy: 0.9728\n",
            "Epoch 33/100\n",
            "1415/1415 [==============================] - 3s 2ms/step - loss: 0.0815 - accuracy: 0.9731\n",
            "Epoch 34/100\n",
            "1415/1415 [==============================] - 3s 2ms/step - loss: 0.0811 - accuracy: 0.9731\n",
            "Epoch 35/100\n",
            "1415/1415 [==============================] - 3s 2ms/step - loss: 0.0812 - accuracy: 0.9732\n",
            "Epoch 36/100\n",
            "1415/1415 [==============================] - 3s 2ms/step - loss: 0.0807 - accuracy: 0.9733\n",
            "Epoch 37/100\n",
            "1415/1415 [==============================] - 3s 2ms/step - loss: 0.0817 - accuracy: 0.9728\n",
            "Epoch 38/100\n",
            "1415/1415 [==============================] - 3s 2ms/step - loss: 0.0814 - accuracy: 0.9729\n",
            "Epoch 39/100\n",
            "1415/1415 [==============================] - 3s 2ms/step - loss: 0.0807 - accuracy: 0.9728\n",
            "Epoch 40/100\n",
            "1415/1415 [==============================] - 3s 2ms/step - loss: 0.0810 - accuracy: 0.9729\n",
            "Epoch 41/100\n",
            "1415/1415 [==============================] - 3s 2ms/step - loss: 0.0811 - accuracy: 0.9732\n",
            "Epoch 42/100\n",
            "1415/1415 [==============================] - 3s 2ms/step - loss: 0.0810 - accuracy: 0.9734\n",
            "Epoch 43/100\n",
            "1415/1415 [==============================] - 3s 2ms/step - loss: 0.0809 - accuracy: 0.9730\n",
            "Epoch 44/100\n",
            "1415/1415 [==============================] - 3s 2ms/step - loss: 0.0803 - accuracy: 0.9736\n",
            "Epoch 45/100\n",
            "1415/1415 [==============================] - 3s 2ms/step - loss: 0.0806 - accuracy: 0.9734\n",
            "Epoch 46/100\n",
            "1415/1415 [==============================] - 3s 2ms/step - loss: 0.0803 - accuracy: 0.9732\n",
            "Epoch 47/100\n",
            "1415/1415 [==============================] - 3s 2ms/step - loss: 0.0810 - accuracy: 0.9733\n",
            "Epoch 48/100\n",
            "1415/1415 [==============================] - 3s 2ms/step - loss: 0.0807 - accuracy: 0.9731\n",
            "Epoch 49/100\n",
            "1415/1415 [==============================] - 3s 2ms/step - loss: 0.0806 - accuracy: 0.9732\n",
            "Epoch 50/100\n",
            "1415/1415 [==============================] - 3s 2ms/step - loss: 0.0799 - accuracy: 0.9735\n",
            "Epoch 51/100\n",
            "1415/1415 [==============================] - 3s 2ms/step - loss: 0.0805 - accuracy: 0.9734\n",
            "Epoch 52/100\n",
            "1415/1415 [==============================] - 3s 2ms/step - loss: 0.0804 - accuracy: 0.9735\n",
            "Epoch 53/100\n",
            "1415/1415 [==============================] - 3s 2ms/step - loss: 0.0801 - accuracy: 0.9731\n",
            "Epoch 54/100\n",
            "1415/1415 [==============================] - 3s 2ms/step - loss: 0.0800 - accuracy: 0.9732\n",
            "Epoch 55/100\n",
            "1415/1415 [==============================] - 3s 2ms/step - loss: 0.0795 - accuracy: 0.9735\n",
            "Epoch 56/100\n",
            "1415/1415 [==============================] - 3s 2ms/step - loss: 0.0796 - accuracy: 0.9734\n",
            "Epoch 57/100\n",
            "1415/1415 [==============================] - 3s 2ms/step - loss: 0.0798 - accuracy: 0.9732\n",
            "Epoch 58/100\n",
            "1415/1415 [==============================] - 3s 2ms/step - loss: 0.0793 - accuracy: 0.9733\n",
            "Epoch 59/100\n",
            "1415/1415 [==============================] - 3s 2ms/step - loss: 0.0796 - accuracy: 0.9733\n",
            "Epoch 60/100\n",
            "1415/1415 [==============================] - 3s 2ms/step - loss: 0.0791 - accuracy: 0.9732\n",
            "Epoch 61/100\n",
            "1415/1415 [==============================] - 3s 2ms/step - loss: 0.0790 - accuracy: 0.9735\n",
            "Epoch 62/100\n",
            "1415/1415 [==============================] - 3s 2ms/step - loss: 0.0795 - accuracy: 0.9730\n",
            "Epoch 63/100\n",
            "1415/1415 [==============================] - 3s 2ms/step - loss: 0.0791 - accuracy: 0.9735\n",
            "Epoch 64/100\n",
            "1415/1415 [==============================] - 3s 2ms/step - loss: 0.0782 - accuracy: 0.9739\n",
            "Epoch 65/100\n",
            "1415/1415 [==============================] - 3s 2ms/step - loss: 0.0787 - accuracy: 0.9735\n",
            "Epoch 66/100\n",
            "1415/1415 [==============================] - 3s 2ms/step - loss: 0.0785 - accuracy: 0.9736\n",
            "Epoch 67/100\n",
            "1415/1415 [==============================] - 3s 2ms/step - loss: 0.0788 - accuracy: 0.9734\n",
            "Epoch 68/100\n",
            "1415/1415 [==============================] - 3s 2ms/step - loss: 0.0778 - accuracy: 0.9735\n",
            "Epoch 69/100\n",
            "1415/1415 [==============================] - 3s 2ms/step - loss: 0.0771 - accuracy: 0.9738\n",
            "Epoch 70/100\n",
            "1415/1415 [==============================] - 3s 2ms/step - loss: 0.0770 - accuracy: 0.9737\n",
            "Epoch 71/100\n",
            "1415/1415 [==============================] - 3s 2ms/step - loss: 0.0770 - accuracy: 0.9737\n",
            "Epoch 72/100\n",
            "1415/1415 [==============================] - 3s 2ms/step - loss: 0.0766 - accuracy: 0.9737\n",
            "Epoch 73/100\n",
            "1415/1415 [==============================] - 3s 2ms/step - loss: 0.0767 - accuracy: 0.9736\n",
            "Epoch 74/100\n",
            "1415/1415 [==============================] - 3s 2ms/step - loss: 0.0760 - accuracy: 0.9736\n",
            "Epoch 75/100\n",
            "1415/1415 [==============================] - 3s 2ms/step - loss: 0.0755 - accuracy: 0.9739\n",
            "Epoch 76/100\n",
            "1415/1415 [==============================] - 3s 2ms/step - loss: 0.0752 - accuracy: 0.9737\n",
            "Epoch 77/100\n",
            "1415/1415 [==============================] - 3s 2ms/step - loss: 0.0742 - accuracy: 0.9740\n",
            "Epoch 78/100\n",
            "1415/1415 [==============================] - 3s 2ms/step - loss: 0.0735 - accuracy: 0.9738\n",
            "Epoch 79/100\n",
            "1415/1415 [==============================] - 3s 2ms/step - loss: 0.0732 - accuracy: 0.9740\n",
            "Epoch 80/100\n",
            "1415/1415 [==============================] - 3s 2ms/step - loss: 0.0725 - accuracy: 0.9740\n",
            "Epoch 81/100\n",
            "1415/1415 [==============================] - 3s 2ms/step - loss: 0.0720 - accuracy: 0.9737\n",
            "Epoch 82/100\n",
            "1415/1415 [==============================] - 3s 2ms/step - loss: 0.0711 - accuracy: 0.9737\n",
            "Epoch 83/100\n",
            "1415/1415 [==============================] - 3s 2ms/step - loss: 0.0702 - accuracy: 0.9740\n",
            "Epoch 84/100\n",
            "1415/1415 [==============================] - 3s 2ms/step - loss: 0.0690 - accuracy: 0.9741\n",
            "Epoch 85/100\n",
            "1415/1415 [==============================] - 3s 2ms/step - loss: 0.0689 - accuracy: 0.9733\n",
            "Epoch 86/100\n",
            "1415/1415 [==============================] - 3s 2ms/step - loss: 0.0681 - accuracy: 0.9740\n",
            "Epoch 87/100\n",
            "1415/1415 [==============================] - 3s 2ms/step - loss: 0.0675 - accuracy: 0.9739\n",
            "Epoch 88/100\n",
            "1415/1415 [==============================] - 3s 2ms/step - loss: 0.0670 - accuracy: 0.9737\n",
            "Epoch 89/100\n",
            "1415/1415 [==============================] - 3s 2ms/step - loss: 0.0659 - accuracy: 0.9739\n",
            "Epoch 90/100\n",
            "1415/1415 [==============================] - 3s 2ms/step - loss: 0.0662 - accuracy: 0.9738\n",
            "Epoch 91/100\n",
            "1415/1415 [==============================] - 3s 2ms/step - loss: 0.0652 - accuracy: 0.9744\n",
            "Epoch 92/100\n",
            "1415/1415 [==============================] - 3s 2ms/step - loss: 0.0642 - accuracy: 0.9757\n",
            "Epoch 93/100\n",
            "1415/1415 [==============================] - 3s 2ms/step - loss: 0.0640 - accuracy: 0.9758\n",
            "Epoch 94/100\n",
            "1415/1415 [==============================] - 3s 2ms/step - loss: 0.0630 - accuracy: 0.9764\n",
            "Epoch 95/100\n",
            "1415/1415 [==============================] - 3s 2ms/step - loss: 0.0632 - accuracy: 0.9762\n",
            "Epoch 96/100\n",
            "1415/1415 [==============================] - 3s 2ms/step - loss: 0.0628 - accuracy: 0.9764\n",
            "Epoch 97/100\n",
            "1415/1415 [==============================] - 3s 2ms/step - loss: 0.0624 - accuracy: 0.9764\n",
            "Epoch 98/100\n",
            "1415/1415 [==============================] - 3s 2ms/step - loss: 0.0615 - accuracy: 0.9771\n",
            "Epoch 99/100\n",
            "1415/1415 [==============================] - 3s 2ms/step - loss: 0.0606 - accuracy: 0.9774\n",
            "Epoch 100/100\n",
            "1415/1415 [==============================] - 3s 2ms/step - loss: 0.0606 - accuracy: 0.9773\n"
          ]
        },
        {
          "data": {
            "text/plain": [
              "<keras.callbacks.History at 0x7f7fe6407940>"
            ]
          },
          "execution_count": 17,
          "metadata": {},
          "output_type": "execute_result"
        }
      ],
      "source": [
        "ann.fit(X_train, y_train, batch_size = 32, epochs = 100)"
      ]
    },
    {
      "cell_type": "markdown",
      "metadata": {
        "id": "tJj5k2MxZga3"
      },
      "source": [
        "## Part 4 - Making the predictions and evaluating the model"
      ]
    },
    {
      "cell_type": "markdown",
      "metadata": {
        "id": "u7yx47jPZt11"
      },
      "source": [
        "### Predicting the Test set results"
      ]
    },
    {
      "cell_type": "code",
      "execution_count": 18,
      "metadata": {
        "colab": {
          "base_uri": "https://localhost:8080/"
        },
        "id": "nIyEeQdRZwgs",
        "outputId": "43e9470f-90f2-4156-9e20-dbe8360845a0",
        "vscode": {
          "languageId": "python"
        }
      },
      "outputs": [
        {
          "name": "stdout",
          "output_type": "stream",
          "text": [
            "354/354 [==============================] - 1s 1ms/step\n",
            "[[1 1]\n",
            " [1 1]\n",
            " [0 0]\n",
            " ...\n",
            " [0 0]\n",
            " [0 0]\n",
            " [1 1]]\n"
          ]
        }
      ],
      "source": [
        "y_pred = ann.predict(X_test)\n",
        "y_pred = (y_pred > 0.5)\n",
        "print(np.concatenate((y_pred.reshape(len(y_pred),1), y_test.reshape(len(y_test),1)),1))"
      ]
    },
    {
      "cell_type": "markdown",
      "metadata": {
        "id": "o0oyfLWoaEGw"
      },
      "source": [
        "### Making the Confusion Matrix"
      ]
    },
    {
      "cell_type": "code",
      "execution_count": 19,
      "metadata": {
        "colab": {
          "base_uri": "https://localhost:8080/"
        },
        "id": "ci6K_r6LaF6P",
        "outputId": "0ab946d0-dd24-4b3d-c8a5-f8e64300aae5",
        "vscode": {
          "languageId": "python"
        }
      },
      "outputs": [
        {
          "name": "stdout",
          "output_type": "stream",
          "text": [
            "[[5935  131]\n",
            " [ 146 5102]]\n"
          ]
        },
        {
          "data": {
            "text/plain": [
              "0.9755170585115785"
            ]
          },
          "execution_count": 19,
          "metadata": {},
          "output_type": "execute_result"
        }
      ],
      "source": [
        "from sklearn.metrics import confusion_matrix, accuracy_score\n",
        "cm = confusion_matrix(y_test, y_pred)\n",
        "print(cm)\n",
        "accuracy_score(y_test, y_pred)"
      ]
    }
  ],
  "metadata": {
    "colab": {
      "provenance": []
    },
    "kernelspec": {
      "display_name": "Python 3",
      "name": "python3"
    }
  },
  "nbformat": 4,
  "nbformat_minor": 0
}
